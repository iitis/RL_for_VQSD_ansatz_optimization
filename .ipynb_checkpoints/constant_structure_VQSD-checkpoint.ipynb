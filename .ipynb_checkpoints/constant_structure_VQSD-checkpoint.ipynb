{
 "cells": [
  {
   "cell_type": "code",
   "execution_count": 1,
   "id": "3cabb7dd",
   "metadata": {},
   "outputs": [],
   "source": [
    "import numpy as np\n",
    "import pickle\n",
    "import matplotlib.pyplot as plt\n",
    "from qiskit import *\n",
    "import scipy.linalg as la\n",
    "from scipy.optimize import minimize\n",
    "from itertools import product\n",
    "from qulacsvis import circuit_drawer\n",
    "from qiskit.quantum_info.states.random import random_density_matrix\n",
    "from qiskit.quantum_info import Statevector, DensityMatrix, partial_trace\n",
    "from qulacs.gate import CNOT, RX, RY, RZ\n",
    "import matplotlib.pyplot as plt\n",
    "plt.rcParams.update(\n",
    "    {\"text.usetex\": True, \"font.family\": \"serif\", \"font.size\": 10}\n",
    ")\n",
    "\n",
    "def dictionary_of_actions(num_qubits):\n",
    "    dictionary = dict()\n",
    "    i = 0\n",
    "    for c, x in product(range(num_qubits),\n",
    "                        range(1, num_qubits)):\n",
    "        dictionary[i] =  [c, x, num_qubits, 0]\n",
    "        i += 1\n",
    "    for r, h in product(range(num_qubits),\n",
    "                           range(1, 4)):\n",
    "        dictionary[i] = [num_qubits, 0, r, h]\n",
    "        i += 1\n",
    "    return dictionary\n",
    "\n",
    "def make_circuit_qiskit(action, qubits):\n",
    "    ctrl = action[0]\n",
    "    targ = (action[0] + action[1]) % qubits\n",
    "    rot_qubit = action[2]\n",
    "    rot_axis = action[3]\n",
    "#     print(1)\n",
    "    if ctrl < qubits:\n",
    "        circuit.cx([ctrl], [targ])\n",
    "    if rot_qubit < qubits:\n",
    "        if rot_axis == 1:\n",
    "            circuit.rx(0, rot_qubit) # TODO: make a function and take angles\n",
    "        elif rot_axis == 2:\n",
    "            circuit.ry(0, rot_qubit)\n",
    "        elif rot_axis == 3:\n",
    "            circuit.rz(0, rot_qubit)\n",
    "        else:\n",
    "            stop\n",
    "    return circuit"
   ]
  },
  {
   "cell_type": "code",
   "execution_count": 11,
   "id": "609dc5b1",
   "metadata": {},
   "outputs": [],
   "source": [
    "qubits, rank, seed, seed_agent =2,4,5,100"
   ]
  },
  {
   "cell_type": "code",
   "execution_count": 13,
   "id": "72cf473f",
   "metadata": {},
   "outputs": [],
   "source": [
    "data = np.load(f'results/global_COBYLA/h_s_{qubits}_rank_{rank}_{seed}/summary_100.npy',allow_pickle=True)[()]\n",
    "# data = np.load(f'results/global_COBYLA/h_s_{qubits}_reduce_heisen/summary_{seed_agent}.npy',allow_pickle=True)[()]"
   ]
  },
  {
   "cell_type": "code",
   "execution_count": 14,
   "id": "0b91fbec",
   "metadata": {},
   "outputs": [
    {
     "name": "stdout",
     "output_type": "stream",
     "text": [
      "First successful episode: 193 and error 8e-06, total successful episode: 2715\n",
      "The average depth is: 12.588213627992634, minimum depth: 8, 1st-depth: 13, 100-depth: 13.16\n",
      "The average gate count: ROT=13.689871086556169,CX=3.5720073664825045\n",
      "The min gate count: ROT=10,CX=2\n"
     ]
    },
    {
     "data": {
      "text/plain": [
       "8.065353320207969e-06"
      ]
     },
     "execution_count": 14,
     "metadata": {},
     "output_type": "execute_result"
    }
   ],
   "source": [
    "episodes = 10000\n",
    "test_train = 'train'\n",
    "success_ep, success_ep_error = [], []\n",
    "average_err = 0\n",
    "for ep_no in range(episodes):\n",
    "    data_error_last = data[test_train][ep_no]['errors'][-1]\n",
    "    if data_error_last <= 1e-5:\n",
    "        success_ep.append(ep_no)\n",
    "        success_ep_error.append(data_error_last)\n",
    "        average_err += data_error_last\n",
    "average_err /= len(success_ep)\n",
    "print(f'First successful episode: {success_ep[0]} and error {round(success_ep_error[0],6)}, total successful episode: {len(success_ep)}')\n",
    "\n",
    "\n",
    "x = [data[test_train][ep_no]['actions'] for ep_no in success_ep]\n",
    "circuit_info_dict = {}\n",
    "depth_list = []\n",
    "oneq_gate_list = []\n",
    "twoq_gate_list = []\n",
    "gate_num_list = []\n",
    "for succ_ep in success_ep:\n",
    "    actions = data[test_train][succ_ep]['actions']\n",
    "    circuit = QuantumCircuit(qubits)\n",
    "    for a in actions:\n",
    "        action = dictionary_of_actions(qubits)[a]\n",
    "        final_circuit = make_circuit_qiskit(action, qubits)\n",
    "    gate_info = final_circuit.count_ops()\n",
    "    key_list = gate_info.keys()\n",
    "    one_gate, two_gate = 0,0\n",
    "    for k in key_list:\n",
    "        if k == 'cx':\n",
    "            two_gate += gate_info[k]\n",
    "        else:\n",
    "            one_gate += gate_info[k]\n",
    "    twoq_gate_list.append(two_gate)\n",
    "    oneq_gate_list.append(one_gate)\n",
    "    gate_num_list.append(one_gate+two_gate)        \n",
    "    depth_list.append(final_circuit.depth())\n",
    "    \n",
    "print(f'The average depth is: {np.mean(depth_list)}, minimum depth: {min(depth_list)}, 1st-depth: {depth_list[0]}, 100-depth: {np.mean(depth_list[0:100])}')\n",
    "print(f'The average gate count: ROT={np.mean(oneq_gate_list)},CX={np.mean(twoq_gate_list)}')\n",
    "print(f'The min gate count: ROT={oneq_gate_list[gate_num_list.index(min(gate_num_list))]},CX={twoq_gate_list[gate_num_list.index(min(gate_num_list))]}')\n",
    "success_ep_error[gate_num_list.index(min(gate_num_list))]"
   ]
  },
  {
   "cell_type": "code",
   "execution_count": 15,
   "id": "e9eeb114",
   "metadata": {},
   "outputs": [],
   "source": [
    "succ_ep = success_ep[gate_num_list.index(min(gate_num_list))]\n",
    "thetas = data['train'][succ_ep]['opt_ang']\n",
    "thetas = list(thetas[-1])\n",
    "total_gate = oneq_gate_list[gate_num_list.index(min(gate_num_list))] + \\\n",
    "                            twoq_gate_list[gate_num_list.index(min(gate_num_list))]\n",
    "rot_count = oneq_gate_list[gate_num_list.index(min(gate_num_list))]"
   ]
  },
  {
   "cell_type": "code",
   "execution_count": 16,
   "id": "835a52d3",
   "metadata": {},
   "outputs": [],
   "source": [
    "state_to_diag_gen = random_density_matrix(2**qubits, rank=rank, seed=seed)\n",
    "final_circuit = QuantumCircuit.from_qasm_str(data['train'][succ_ep]['save_circ'][-1])\n",
    "final_circuit.data = final_circuit[:total_gate]"
   ]
  },
  {
   "cell_type": "code",
   "execution_count": 17,
   "id": "193e955c",
   "metadata": {},
   "outputs": [],
   "source": [
    "def fix_structure_agent_ansatz(theta):\n",
    "    assert len(theta) == rot_count, f\"there are {rot_count} rotations!\"\n",
    "    ansatz = QuantumCircuit(qubits)\n",
    "    rot_idx = 0\n",
    "    for i in final_circuit.data:\n",
    "        if i[0].name == 'cx':\n",
    "            ansatz.cx(i[1][0].index, i[1][1].index)\n",
    "        if i[0].params != [0]:\n",
    "            if i[0].name == 'rx':\n",
    "                ansatz.rx(theta[rot_idx], i[1][0].index)\n",
    "                rot_idx +=1\n",
    "            elif i[0].name == 'ry':\n",
    "                ansatz.ry(theta[rot_idx], i[1][0].index)\n",
    "                rot_idx +=1\n",
    "            elif i[0].name == 'rz':\n",
    "                ansatz.rz(theta[rot_idx], i[1][0].index)\n",
    "                rot_idx +=1\n",
    "    return ansatz\n",
    "\n",
    "def cost_func(n, theta, dm, trace_before_diag):\n",
    "    \"\"\"returns the cost function value\"\"\"\n",
    "    \"\"\"for particular choice of layered ansatz and angle\"\"\"\n",
    "    dm_evo = dm.evolve(fix_structure_agent_ansatz(theta))\n",
    "    dm_evo = np.kron(dm_evo.data, dm_evo.data)\n",
    "    \n",
    "    qc_cost = QuantumCircuit(2*n)\n",
    "    for i in range(n):\n",
    "        qc_cost.cx([i+n], [i])\n",
    "    dm_evo = DensityMatrix(dm_evo).evolve(qc_cost)\n",
    "    \n",
    "    par_trace = partial_trace(dm_evo, range(n))\n",
    "    trace_after_diag = np.trace(par_trace.data @ par_trace.data).real    \n",
    "    return trace_before_diag - trace_after_diag\n",
    "\n",
    "def eigenvals_func(dm, ansatz):\n",
    "    \"\"\"Return the eigenvalues\"\"\"\n",
    "#     qc_eigenvals = ansatz\n",
    "    dm_evo = DensityMatrix(dm).evolve(ansatz)\n",
    "    dm_evo = dm_evo.data\n",
    "    diagnls = list((np.diagonal(dm_evo)).real)\n",
    "    diag_A = []\n",
    "    diag_A.append(diagnls)\n",
    "    return diag_A, dm_evo"
   ]
  },
  {
   "cell_type": "code",
   "execution_count": null,
   "id": "3aab6e0c",
   "metadata": {},
   "outputs": [
    {
     "name": "stdout",
     "output_type": "stream",
     "text": [
      "[0.595826664021062, 0.248472127793185, 0.15017958812491564, 0.0055216200608375786]\n"
     ]
    },
    {
     "name": "stderr",
     "output_type": "stream",
     "text": [
      "/tmp/ipykernel_13569/3111602550.py:10: DeprecationWarning: Back-references to from Bit instances to their containing Registers have been deprecated. Instead, inspect Registers to find their contained Bits.\n",
      "  ansatz.rx(theta[rot_idx], i[1][0].index)\n",
      "/tmp/ipykernel_13569/3111602550.py:13: DeprecationWarning: Back-references to from Bit instances to their containing Registers have been deprecated. Instead, inspect Registers to find their contained Bits.\n",
      "  ansatz.ry(theta[rot_idx], i[1][0].index)\n",
      "/tmp/ipykernel_13569/3111602550.py:16: DeprecationWarning: Back-references to from Bit instances to their containing Registers have been deprecated. Instead, inspect Registers to find their contained Bits.\n",
      "  ansatz.rz(theta[rot_idx], i[1][0].index)\n",
      "/tmp/ipykernel_13569/3111602550.py:7: DeprecationWarning: Back-references to from Bit instances to their containing Registers have been deprecated. Instead, inspect Registers to find their contained Bits.\n",
      "  ansatz.cx(i[1][0].index, i[1][1].index)\n"
     ]
    },
    {
     "name": "stdout",
     "output_type": "stream",
     "text": [
      "seed: 0, min, err: 9.508592143407518e-06\n",
      "[0.5494696125677254, 0.3663257911737407, 0.08355003469361853, 0.000654561564914065]\n",
      "seed: 1, min, err: 0.001164348002126995\n",
      "[0.525724055734214, 0.26790111317035525, 0.19531989809192188, 0.011054933003508637]\n",
      "seed: 2, min, err: 0.0003641837047038105\n",
      "[0.7338590861505225, 0.2500076922165149, 0.014353627362316603, 0.0017795942706467845]\n",
      "seed: 3, min, err: 0.002452671030977684\n",
      "[0.6012864323515396, 0.29346703143376374, 0.09938321296748376, 0.00586332324721361]\n",
      "seed: 4, min, err: 0.0011246271457941658\n",
      "[0.6758998550466471, 0.19619376487111706, 0.1263863953342109, 0.0015199847480236554]\n",
      "seed: 5, min, err: 2.0626150799862231e-07\n",
      "[0.7438445150627055, 0.16579842283533333, 0.0821352801662978, 0.008221781935662968]\n",
      "seed: 6, min, err: 0.0015009933533073178\n",
      "[0.6893932087166306, 0.1974228651123336, 0.10934948870791565, 0.003834437463120867]\n",
      "seed: 7, min, err: 0.0010542162535920959\n",
      "[0.49578141031339673, 0.39754718981653503, 0.10070693376581318, 0.005964466104255831]\n",
      "seed: 8, min, err: 0.0005523224130827454\n",
      "[0.6805286401435312, 0.2697837703262689, 0.04656055587716953, 0.00312703365303093]\n",
      "seed: 9, min, err: 0.00169064976397274\n",
      "[0.5914139466382136, 0.36718943620638056, 0.038010658744273965, 0.0033859584111318283]\n",
      "seed: 10, min, err: 0.0007239619565492594\n",
      "[0.6835452117171505, 0.2298284829554119, 0.076535939931071, 0.010090365396366832]\n",
      "seed: 11, min, err: 0.00013177000806251346\n",
      "[0.678778965698957, 0.24980065610440977, 0.06940316276894089, 0.0020172154276923804]\n",
      "seed: 12, min, err: 0.0007624726307995417\n",
      "[0.586555739302007, 0.3027152755170066, 0.09873368479950202, 0.011995300381484495]\n",
      "seed: 13, min, err: 5.4048672027144336e-05\n",
      "[0.6366316318825, 0.22302961094090681, 0.1079535665869096, 0.03238519058968388]\n",
      "seed: 14, min, err: 0.0002465777912180418\n",
      "[0.6667453461589745, 0.29485107003795474, 0.03834848563531055, 5.509816776044422e-05]\n",
      "seed: 15, min, err: 1.1348983106613546e-05\n",
      "[0.4507892781833087, 0.33432702099435835, 0.20950577649352997, 0.005377924328803862]\n",
      "seed: 16, min, err: 0.0007477335466821508\n",
      "[0.587609284114438, 0.2640209047030689, 0.14011305259343523, 0.008256758589058416]\n",
      "seed: 17, min, err: 0.005490138141556694\n",
      "[0.7571299826458875, 0.17487998678997674, 0.05589559417980285, 0.012094436384333865]\n",
      "seed: 18, min, err: 0.00011275669017531142\n",
      "[0.5270550933290761, 0.26327271750785275, 0.19153801676373408, 0.018134172399338035]\n",
      "seed: 19, min, err: 0.00020468787284765835\n",
      "[0.71743756182815, 0.23985569570583692, 0.039778227024266075, 0.00292851544174689]\n",
      "seed: 20, min, err: 1.1472877124629304e-05\n",
      "[0.6729756121347592, 0.25647216845168885, 0.07025683602186422, 0.0002953833916867725]\n",
      "seed: 21, min, err: 0.00012714793666801104\n",
      "[0.5621686448634049, 0.29999971244495094, 0.0889344067388574, 0.04889723595278583]\n",
      "seed: 22, min, err: 0.0006820912193663824\n",
      "[0.6909235867327141, 0.20734975285107474, 0.09781933545689449, 0.003907324959316805]\n",
      "seed: 23, min, err: 8.776821570776314e-06\n",
      "[0.4527950806336215, 0.38257880405342964, 0.14454960874428877, 0.020076506568660404]\n",
      "seed: 24, min, err: 0.00043900805598425305\n",
      "[0.5279323233889468, 0.39206986960844403, 0.07181706718008404, 0.008180739822524903]\n",
      "seed: 25, min, err: 0.0006016473590907805\n",
      "[0.6396059306725569, 0.21744455036621263, 0.11210413574413154, 0.030845383217099624]\n",
      "seed: 26, min, err: 0.0009794397284330683\n",
      "[0.7083096597561751, 0.21646317749033983, 0.07420412909770152, 0.0010230336557843283]\n",
      "seed: 27, min, err: 1.9009868438800903e-05\n",
      "[0.6411169090821376, 0.2398458586500985, 0.11032934041614541, 0.00870789185161858]\n",
      "seed: 28, min, err: 0.000745971229951385\n",
      "[0.5241152333412201, 0.34601129747260534, 0.12656120021471295, 0.0033122689714614783]\n",
      "seed: 29, min, err: 0.005964930094070938\n",
      "[0.7081830051233236, 0.22688379186470117, 0.05393909477559184, 0.010994108236383172]\n",
      "seed: 30, min, err: 0.0024224908758188443\n",
      "[0.5756071855025882, 0.3540867466556308, 0.05809780696477617, 0.012208260877004322]\n"
     ]
    }
   ],
   "source": [
    "qubits, rank, total_seed = 2,4,500\n",
    "optimization_info = {}\n",
    "for seed in range(total_seed):\n",
    "    rdm = random_density_matrix(2**qubits, rank = rank, seed = seed)\n",
    "    rdm_data = rdm.data\n",
    "    trace_before_diag = np.trace(np.matmul(rdm_data,rdm_data)).real\n",
    "    true_eig = list(reversed(np.sort(la.eig(rdm_data)[0].real)))\n",
    "    print(true_eig)\n",
    "    def cost(theta):\n",
    "        return cost_func(qubits, theta, rdm , trace_before_diag)\n",
    "    hea_data = {}\n",
    "    layer_list, eig_err_list = [], []\n",
    "    cost_list, ang_list, nfev_list = [], [], []\n",
    "    for _ in range(10):\n",
    "        initial_guess = np.random.random(rot_count)\n",
    "        res = minimize(cost, initial_guess, method = 'COBYLA', options={'maxiter': 500})\n",
    "        cost_list.append(res['fun'])\n",
    "        ang_list.append(res['x'])\n",
    "        nfev_list.append(res.nfev)\n",
    "    \n",
    "        theta = ang_list[cost_list.index(np.min(cost_list))]\n",
    "        ansatz = fix_structure_agent_ansatz(theta)\n",
    "        inf_eig = list(reversed(np.sort(eigenvals_func(rdm, ansatz)[0])[0]))\n",
    "#         print(inf_eig)\n",
    "        err = 0\n",
    "        for eigno in range(4):\n",
    "#             print(inf_eig[eigno], true_eig[eigno])\n",
    "            err += np.abs(inf_eig[eigno] - true_eig[eigno])**2\n",
    "        eig_err_list.append(err)\n",
    "#     print(f'{seed: {error}')\n",
    "    print(f'seed: {seed}, min, err: {np.min(eig_err_list)}')\n",
    "    optimization_info[f'{seed}'] = [nfev_list, eig_err_list]\n",
    "with open(f'plot_data/{qubits}_qubit_mixed_rank_constant_structure_opt_data.p', 'wb') as fp:\n",
    "        pickle.dump(optimization_info, fp)"
   ]
  },
  {
   "cell_type": "code",
   "execution_count": 126,
   "id": "ff3f442f",
   "metadata": {},
   "outputs": [
    {
     "data": {
      "image/png": "[encoded data removed]",
      "text/plain": [
       "<Figure size 288x216 with 1 Axes>"
      ]
     },
     "metadata": {
      "needs_background": "light"
     },
     "output_type": "display_data"
    }
   ],
   "source": [
    "fig, ax = plt.subplots( 1, 1, sharey=True, figsize = (4, 3))\n",
    "fixed_ansatz_data = []\n",
    "with (open(f\"plot_data/{qubits}_qubit_mixed_rank_constant_structure_opt_data.p\", \"rb\")) as openfile:\n",
    "    while True:\n",
    "        try:\n",
    "            fixed_ansatz_data.append(pickle.load(openfile))\n",
    "        except EOFError:\n",
    "            break\n",
    "optimization_info = fixed_ansatz_data[0]\n",
    "x = []\n",
    "for k  in optimization_info.keys():\n",
    "    x.append(np.min(optimization_info[k][1]))\n",
    "x1 = list(np.copy(x))\n",
    "x[x.index(np.min(x))] = 0\n",
    "ax.semilogy(x, 'bo')\n",
    "# ax.semilogy([4], [6.9*1e-7], 'ro', label = 'State\\'s ansatz')\n",
    "ax.axhline(y = np.mean(x), color = 'k', label = 'Average error')\n",
    "ax.set_xlabel('Number of states')\n",
    "ax.set_ylabel('$\\sum_i^{m}(\\\\lambda_i - \\\\lambda^{\\\\prime}_i)^2$')\n",
    "ax.legend()\n",
    "fig.tight_layout()\n",
    "# plt.savefig(f'plot/{qubits}_qubit_fixed_ansatz.pdf')\n",
    "# plt.savefig(f'plot/{qubits}_qubit_fixed_ansatz.png')"
   ]
  },
  {
   "cell_type": "code",
   "execution_count": 127,
   "id": "9970da3c",
   "metadata": {},
   "outputs": [],
   "source": [
    "optimization_info = fixed_ansatz_data[0]\n",
    "x = []\n",
    "for k  in optimization_info.keys():\n",
    "    x.append(np.min(optimization_info[k][1]))\n",
    "x1 = list(np.copy(x))"
   ]
  },
  {
   "cell_type": "code",
   "execution_count": 131,
   "id": "3cf1c178",
   "metadata": {},
   "outputs": [],
   "source": [
    "sterr1em5,sterr1em4,sterr1em3,sterr1em2  = [], [],[], []\n",
    "for x in x1:\n",
    "    if x <= 1e-4 and x >= 1e-5:\n",
    "        sterr1em5.append(x)\n",
    "    elif x <= 1e-3 and x > 1e-4:\n",
    "        sterr1em4.append(x)\n",
    "    elif x <= 1e-2 and x > 1e-3:\n",
    "        sterr1em3.append(x)\n",
    "    else:\n",
    "        sterr1em2.append(x)\n",
    "states_err = [len(sterr1em5), len(sterr1em4), len(sterr1em3), len(sterr1em2)]\n",
    "# print(sum(states_err))"
   ]
  },
  {
   "cell_type": "code",
   "execution_count": 150,
   "id": "353b18ff",
   "metadata": {},
   "outputs": [
    {
     "name": "stderr",
     "output_type": "stream",
     "text": [
      "/tmp/ipykernel_13569/2085666518.py:3: MatplotlibDeprecationWarning: The 'b' parameter of grid() has been renamed 'visible' since Matplotlib 3.5; support for the old name will be dropped two minor releases later.\n",
      "  ax.grid(b = True, color ='grey',\n"
     ]
    },
    {
     "data": {
      "image/png": "[encoded data removed]",
      "text/plain": [
       "<Figure size 504x216 with 1 Axes>"
      ]
     },
     "metadata": {
      "needs_background": "light"
     },
     "output_type": "display_data"
    }
   ],
   "source": [
    "fig, ax = plt.subplots(figsize =(7, 3))\n",
    "ax.barh([1,2,3,4], list(reversed(states_err)))\n",
    "ax.grid(b = True, color ='grey',\n",
    "        linestyle ='--', linewidth = 0.5,\n",
    "        alpha = 0.4)\n",
    "ax.invert_xaxis()\n",
    "for i in ax.patches:\n",
    "    plt.text(i.get_width()+0.35, i.get_y()+0.3,\n",
    "             str(round((i.get_width()), 2)),\n",
    "             fontsize = 12, fontweight ='bold',\n",
    "             color ='black')\n",
    "\n",
    "ax.set_yticks(list(reversed(range(1, 5))), ('$10^{-5}\\\\leq\\\\Delta < 10^{-4}$', '$10^{-4}\\\\leq\\\\Delta < 10^{-3}$', '$10^{-3}\\\\leq\\\\Delta < 10^{-2}$', '$10^{-2}\\\\leq\\\\Delta < 10^{-1}$'))\n",
    "ax.invert_xaxis()\n",
    "# for l in labels:\n",
    "ax.set_xticks([])\n",
    "fig.tight_layout()\n",
    "plt.savefig('plot/2_qubit_fixed_ansatz.pdf')\n",
    "plt.savefig('plot/2_qubit_fixed_ansatz.png')\n",
    "# ax.set_yticks([1e-5, 1e-4])"
   ]
  }
 ],
 "metadata": {
  "kernelspec": {
   "display_name": "Python 3 (ipykernel)",
   "language": "python",
   "name": "python3"
  },
  "language_info": {
   "codemirror_mode": {
    "name": "ipython",
    "version": 3
   },
   "file_extension": ".py",
   "mimetype": "text/x-python",
   "name": "python",
   "nbconvert_exporter": "python",
   "pygments_lexer": "ipython3",
   "version": "3.9.7"
  }
 },
 "nbformat": 4,
 "nbformat_minor": 5
}
