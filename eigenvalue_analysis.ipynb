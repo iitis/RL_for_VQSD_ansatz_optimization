{
 "cells": [
  {
   "cell_type": "code",
   "execution_count": 1,
   "id": "4c6f8f7b",
   "metadata": {},
   "outputs": [],
   "source": [
    "import numpy as np\n",
    "import scipy.linalg as la\n",
    "import pickle\n",
    "\n",
    "from scipy.optimize import minimize\n",
    "from itertools import product\n",
    "\n",
    "from qiskit import *\n",
    "from qiskit.quantum_info.states.random import random_density_matrix\n",
    "from qiskit.quantum_info import Statevector, DensityMatrix, partial_trace\n",
    "\n",
    "import matplotlib.pyplot as plt\n",
    "from mpl_axes_aligner import shift\n",
    "plt.rcParams.update(\n",
    "    {\"text.usetex\": True, \"font.family\": \"serif\", \"font.size\": 10}\n",
    ")"
   ]
  },
  {
   "cell_type": "code",
   "execution_count": 2,
   "id": "9202709b",
   "metadata": {},
   "outputs": [],
   "source": [
    "def dictionary_of_actions(num_qubits):\n",
    "    dictionary = dict()\n",
    "    i = 0\n",
    "    for c, x in product(range(num_qubits),\n",
    "                        range(1, num_qubits)):\n",
    "        dictionary[i] =  [c, x, num_qubits, 0]\n",
    "        i += 1\n",
    "    for r, h in product(range(num_qubits),\n",
    "                           range(1, 4)):\n",
    "        dictionary[i] = [num_qubits, 0, r, h]\n",
    "        i += 1\n",
    "    return dictionary\n",
    "\n",
    "def make_circuit_qiskit(action, qubits):\n",
    "    ctrl = action[0]\n",
    "    targ = (action[0] + action[1]) % qubits\n",
    "    rot_qubit = action[2]\n",
    "    rot_axis = action[3]\n",
    "#     print(1)\n",
    "    if ctrl < qubits:\n",
    "        circuit.cx([ctrl], [targ])\n",
    "    if rot_qubit < qubits:\n",
    "        if rot_axis == 1:\n",
    "            circuit.rx(0, rot_qubit) # TODO: make a function and take angles\n",
    "        elif rot_axis == 2:\n",
    "            circuit.ry(0, rot_qubit)\n",
    "        elif rot_axis == 3:\n",
    "            circuit.rz(0, rot_qubit)\n",
    "        else:\n",
    "            stop\n",
    "    return circuit"
   ]
  },
  {
   "cell_type": "code",
   "execution_count": 4,
   "id": "9472f654",
   "metadata": {},
   "outputs": [],
   "source": [
    "qubits, rank, seed, seed_agent = 2,4,1,100\n",
    "episodes = 10000\n",
    "tolerance = 1e-5\n",
    "test_train = 'train'\n",
    "data = np.load(f'results/global_COBYLA/h_s_{qubits}_rank_{rank}_{seed}/summary_{seed_agent}.npy',allow_pickle=True)[()]"
   ]
  },
  {
   "cell_type": "code",
   "execution_count": 5,
   "id": "5a0c34da",
   "metadata": {},
   "outputs": [
    {
     "name": "stdout",
     "output_type": "stream",
     "text": [
      "First successful episode: 29 and error 7e-06, total successful episode: 991\n"
     ]
    }
   ],
   "source": [
    "succ_ep_info_dict = {}\n",
    "success_ep, success_ep_error = [], []\n",
    "average_err = 0\n",
    "for ep_no in range(episodes):\n",
    "    data_error_last = data[test_train][ep_no]['errors'][-1]\n",
    "    if data_error_last <= tolerance:\n",
    "        success_ep.append(ep_no)\n",
    "        success_ep_error.append(data_error_last)\n",
    "        average_err += data_error_last\n",
    "average_err /= len(success_ep)\n",
    "print(f'First successful episode: {success_ep[0]} and error {round(success_ep_error[0],6)}, total successful episode: {len(success_ep)}')\n",
    "\n",
    "succ_ep_info_dict['succ_ep_list'] = success_ep\n",
    "succ_ep_info_dict['succ_ep_err_list'] = success_ep_error\n",
    "\n",
    "with open(f'plot_data/{qubits}_qubit_mixed_rank_{rank}_agent_seed_{seed_agent}_succ_ep_data.p', 'wb') as fp:\n",
    "    pickle.dump(succ_ep_info_dict, fp)\n",
    "\n",
    "x = [data[test_train][ep_no]['actions'] for ep_no in success_ep]\n",
    "circuit_info_dict = {}\n",
    "depth_list = []\n",
    "oneq_gate_list = []\n",
    "twoq_gate_list = []\n",
    "gate_num_list = []\n",
    "for succ_ep in success_ep:\n",
    "    actions = data[test_train][succ_ep]['actions']\n",
    "    circuit = QuantumCircuit(qubits)\n",
    "    for a in actions:\n",
    "        action = dictionary_of_actions(qubits)[a]\n",
    "        final_circuit = make_circuit_qiskit(action, qubits)\n",
    "    gate_info = final_circuit.count_ops()\n",
    "    key_list = gate_info.keys()\n",
    "    one_gate, two_gate = 0,0\n",
    "    for k in key_list:\n",
    "        if k == 'cx':\n",
    "            two_gate += gate_info[k]\n",
    "        else:\n",
    "            one_gate += gate_info[k]\n",
    "\n",
    "    twoq_gate_list.append(two_gate)\n",
    "    oneq_gate_list.append(one_gate)\n",
    "    gate_num_list.append(one_gate+two_gate)        \n",
    "    depth_list.append(final_circuit.depth())\n",
    "\n",
    "circuit_info_dict['depth_list'] = depth_list\n",
    "circuit_info_dict['oneq_gate_list'] = oneq_gate_list\n",
    "circuit_info_dict['twoq_gate_list'] = twoq_gate_list\n",
    "circuit_info_dict['gate_num_list'] = gate_num_list\n",
    "with open(f'plot_data/{qubits}_qubit_mixed_rank_{rank}_agent_seed_{seed_agent}_circuit_data.p', 'wb') as fp:\n",
    "    pickle.dump(circuit_info_dict, fp)"
   ]
  },
  {
   "cell_type": "code",
   "execution_count": 26,
   "id": "9f712590",
   "metadata": {},
   "outputs": [
    {
     "name": "stdout",
     "output_type": "stream",
     "text": [
      "The average depth is: 13.425832492431887, minimum depth: 10, 1st-depth: 15, 100-depth: 13.86\n",
      "The average gate count: ROT=15.169525731584258,CX=3.7386478304742683\n",
      "The min gate count: ROT=12,CX=3\n"
     ]
    },
    {
     "data": {
      "text/plain": [
       "9.603757840648264e-06"
      ]
     },
     "execution_count": 26,
     "metadata": {},
     "output_type": "execute_result"
    }
   ],
   "source": [
    "print(f'The average depth is: {np.mean(depth_list)}, minimum depth: {min(depth_list)}, 1st-depth: {depth_list[0]}, 100-depth: {np.mean(depth_list[0:100])}')\n",
    "print(f'The average gate count: ROT={np.mean(oneq_gate_list)},CX={np.mean(twoq_gate_list)}')\n",
    "print(f'The min gate count: ROT={oneq_gate_list[gate_num_list.index(min(gate_num_list))]},CX={twoq_gate_list[gate_num_list.index(min(gate_num_list))]}')\n",
    "success_ep_error[gate_num_list.index(min(gate_num_list))]"
   ]
  },
  {
   "cell_type": "code",
   "execution_count": 6,
   "id": "94acb855",
   "metadata": {},
   "outputs": [],
   "source": [
    "succ_ep = success_ep[gate_num_list.index(min(gate_num_list))]\n",
    "# succ_ep = success_ep[-1]\n",
    "thetas = data['train'][succ_ep]['opt_ang']\n",
    "thetas = list(thetas[-1])"
   ]
  },
  {
   "cell_type": "code",
   "execution_count": 7,
   "id": "aa31df1e",
   "metadata": {},
   "outputs": [],
   "source": [
    "def eigenvals_func(theta, rdm, ansatz):\n",
    "    \"\"\"Return the eigenvalues\"\"\"\n",
    "    qc_eigenvals = ansatz\n",
    "    dm_evo = rdm.evolve(qc_eigenvals)\n",
    "    dm_evo = dm_evo.data\n",
    "    diagnls = list((np.diagonal(dm_evo)).real)\n",
    "    diag_A = []\n",
    "    diag_A.append(diagnls)\n",
    "    return diag_A, dm_evo, qc_eigenvals"
   ]
  },
  {
   "cell_type": "code",
   "execution_count": 8,
   "id": "088d83d6",
   "metadata": {
    "scrolled": false
   },
   "outputs": [
    {
     "name": "stderr",
     "output_type": "stream",
     "text": [
      "/tmp/ipykernel_1442482/2038071203.py:19: DeprecationWarning: Back-references to from Bit instances to their containing Registers have been deprecated. Instead, inspect Registers to find their contained Bits.\n",
      "  ansatz.rx(i[0].params[0], i[1][0].index)\n",
      "/tmp/ipykernel_1442482/2038071203.py:21: DeprecationWarning: Back-references to from Bit instances to their containing Registers have been deprecated. Instead, inspect Registers to find their contained Bits.\n",
      "  ansatz.ry(i[0].params[0], i[1][0].index)\n",
      "/tmp/ipykernel_1442482/2038071203.py:23: DeprecationWarning: Back-references to from Bit instances to their containing Registers have been deprecated. Instead, inspect Registers to find their contained Bits.\n",
      "  ansatz.rz(i[0].params[0], i[1][0].index)\n",
      "/tmp/ipykernel_1442482/2038071203.py:16: DeprecationWarning: Back-references to from Bit instances to their containing Registers have been deprecated. Instead, inspect Registers to find their contained Bits.\n",
      "  ansatz.cx(i[1][0].index, i[1][1].index)\n"
     ]
    }
   ],
   "source": [
    "import scipy.linalg as la\n",
    "state_data = []\n",
    "rdm = random_density_matrix(2**qubits, rank = rank, seed = 1)\n",
    "state_to_diag_gen = rdm\n",
    "true_eig = np.sort(la.eig(state_to_diag_gen)[0].real)\n",
    "err_list = []\n",
    "gates = oneq_gate_list[gate_num_list.index(min(gate_num_list))] + \\\n",
    "        twoq_gate_list[gate_num_list.index(min(gate_num_list))]\n",
    "gates_list = range(1, gates+1)\n",
    "inf_eig_list = []\n",
    "for g in gates_list:\n",
    "    final_circuit = QuantumCircuit.from_qasm_str(data['train'][succ_ep]['save_circ'][-1])\n",
    "    ansatz =QuantumCircuit(qubits)\n",
    "    for i in final_circuit.data:\n",
    "        if i[0].name == 'cx':\n",
    "            ansatz.cx(i[1][0].index, i[1][1].index)\n",
    "        if i[0].params != [0]:\n",
    "            if i[0].name == 'rx':\n",
    "                ansatz.rx(i[0].params[0], i[1][0].index)\n",
    "            elif i[0].name == 'ry':\n",
    "                ansatz.ry(i[0].params[0], i[1][0].index)\n",
    "            elif i[0].name == 'rz':\n",
    "                ansatz.rz(i[0].params[0], i[1][0].index)\n",
    "\n",
    "    ansatz.data = ansatz[:g]\n",
    "    inf_eig = np.sort(eigenvals_func(thetas, state_to_diag_gen, ansatz)[0])[0]\n",
    "    inf_eig_list.append(inf_eig)\n",
    "    #### ERROR IN EIGENVALUE CALCULATION ####\n",
    "    err = 0\n",
    "    for eigno in range(2**qubits):\n",
    "        err += np.abs(inf_eig[eigno] - true_eig[eigno])**2\n",
    "    err_list.append(err)"
   ]
  },
  {
   "cell_type": "code",
   "execution_count": 9,
   "id": "4af2a5ce",
   "metadata": {},
   "outputs": [
    {
     "data": {
      "image/png": "[encoded data removed]",
      "text/plain": [
       "<Figure size 400x350 with 1 Axes>"
      ]
     },
     "metadata": {},
     "output_type": "display_data"
    }
   ],
   "source": [
    "line_type = ['r-x', 'b-o', 'g-v', 'y-s', 'k-8', 'c-X', 'm-D', '-H']\n",
    "fig, ax = plt.subplots( 1, 1, sharey=True, figsize = (4, 3.5))\n",
    "# ax = fig.add_subplot(111)\n",
    "for eigel in range(2**qubits):\n",
    "    x = np.asarray(inf_eig_list)[:,eigel]\n",
    "#     print(len(x), len(list(range(1,gates,1)))) \n",
    "    ax.semilogy(list(range(1,gates+1,1)), x, line_type[eigel], markerfacecolor='none', ms=10, label = f'{round(x[-1],7)}')\n",
    "\n",
    "for true_eigel in true_eig:\n",
    "    ax.plot([gates], [true_eigel], 'ko', ms=8)\n",
    "\n",
    "ax.set_xticks(list(range(1,gates+1,1)))\n",
    "# org = 0.45  # Origin\n",
    "# pos = 5.7  # Position the origins is aligned\n",
    "# expand = True  # Switch the aligning method\n",
    "# shift.xaxis(ax, pos, org)\n",
    "ax.legend(ncol = 2, bbox_to_anchor=[0.9, 1.24])\n",
    "ax.set_xlabel('Number of gates')\n",
    "ax.set_ylabel('Eigenvalue convergence')\n",
    "ax.grid(color='k', linestyle='--', linewidth=1.2, alpha = 0.2)\n",
    "fig.tight_layout()\n",
    "# plt.savefig(f'plot/{qubits}_qubits_eigenvalue_convergence_seed_{seed_agent}.pdf')\n",
    "# plt.savefig(f'plot/{qubits}_qubits_eigenvalue_convergence_seed_{seed_agent}.png')"
   ]
  }
 ],
 "metadata": {
  "kernelspec": {
   "display_name": "Python 3 (ipykernel)",
   "language": "python",
   "name": "python3"
  },
  "language_info": {
   "codemirror_mode": {
    "name": "ipython",
    "version": 3
   },
   "file_extension": ".py",
   "mimetype": "text/x-python",
   "name": "python",
   "nbconvert_exporter": "python",
   "pygments_lexer": "ipython3",
   "version": "3.8.5"
  }
 },
 "nbformat": 4,
 "nbformat_minor": 5
}
